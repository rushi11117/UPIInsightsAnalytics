{
 "cells": [
  {
   "cell_type": "code",
   "execution_count": 63,
   "id": "a59cf621-02a3-4384-a81f-bfe2d499edfd",
   "metadata": {},
   "outputs": [],
   "source": [
    "import csv\n",
    "\n",
    "min_lat_scaled = int(15.35 * 10000)\n",
    "max_lat_scaled = int(22.02 * 10000)\n",
    "min_lon_scaled = int(72.36 * 10000)\n",
    "max_lon_scaled = int(80.54 * 10000)"
   ]
  },
  {
   "cell_type": "code",
   "execution_count": 72,
   "id": "26b2c543-4e00-43b5-8709-b4f37e38ba89",
   "metadata": {},
   "outputs": [],
   "source": [
    "step = 0.039\n",
    "NSP = []\n",
    "set = 0\n",
    "\n",
    "with open('coordinates.csv', mode='w', newline='') as file:\n",
    "    writer = csv.writer(file)\n",
    "    for latitude in range(min_lat_scaled, max_lat_scaled + 1, int(step * 10000)):\n",
    "            for longitude in range(min_lon_scaled, max_lon_scaled + 1, int(step * 10000)):\n",
    "                NSP.append((f\"{latitude / 10000:.4f}\", f\"{longitude / 10000:.4f}\"))\n",
    "                if len(NSP) >= 300:\n",
    "                    writer.writerow([f\"Set_{set}\"] + [f\"{lat},{lon}\" for lat, lon in NSP])\n",
    "                    NSP = []\n",
    "                    set += 1\n",
    "    if NSP:\n",
    "        writer.writerow([f\"Set_{set}\"] + [f\"{lat},{lon}\" for lat, lon in NSP])"
   ]
  }
 ],
 "metadata": {
  "kernelspec": {
   "display_name": "Python 3 (ipykernel)",
   "language": "python",
   "name": "python3"
  },
  "language_info": {
   "codemirror_mode": {
    "name": "ipython",
    "version": 3
   },
   "file_extension": ".py",
   "mimetype": "text/x-python",
   "name": "python",
   "nbconvert_exporter": "python",
   "pygments_lexer": "ipython3",
   "version": "3.10.6"
  }
 },
 "nbformat": 4,
 "nbformat_minor": 5
}
