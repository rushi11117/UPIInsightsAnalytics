{
 "cells": [
  {
   "cell_type": "code",
   "execution_count": 33,
   "id": "1406dcc4-3a0d-40ef-95a6-bab7b1d890da",
   "metadata": {},
   "outputs": [],
   "source": [
    "from sources.FetchTransactions import FetchTransactionsWithLocations"
   ]
  },
  {
   "cell_type": "code",
   "execution_count": 36,
   "id": "84ba5ee3-dd38-45cb-b998-5cecdcf2e31f",
   "metadata": {},
   "outputs": [
    {
     "ename": "AttributeError",
     "evalue": "'FetchTransactionsWithLocations' object has no attribute 'getAllLocationsCoordinates'",
     "output_type": "error",
     "traceback": [
      "\u001b[1;31m---------------------------------------------------------------------------\u001b[0m",
      "\u001b[1;31mAttributeError\u001b[0m                            Traceback (most recent call last)",
      "Cell \u001b[1;32mIn[36], line 2\u001b[0m\n\u001b[0;32m      1\u001b[0m transactions_with_locations \u001b[38;5;241m=\u001b[39m FetchTransactionsWithLocations()\n\u001b[1;32m----> 2\u001b[0m result \u001b[38;5;241m=\u001b[39m \u001b[43mtransactions_with_locations\u001b[49m\u001b[38;5;241;43m.\u001b[39;49m\u001b[43mgetAllLocationsCoordinates\u001b[49m()\n",
      "\u001b[1;31mAttributeError\u001b[0m: 'FetchTransactionsWithLocations' object has no attribute 'getAllLocationsCoordinates'"
     ]
    }
   ],
   "source": [
    "transactions_with_locations = FetchLocations()\n",
    "result = transactions_with_locations.getAllLocationsCoordinates()"
   ]
  }
 ],
 "metadata": {
  "kernelspec": {
   "display_name": "Python 3 (ipykernel)",
   "language": "python",
   "name": "python3"
  },
  "language_info": {
   "codemirror_mode": {
    "name": "ipython",
    "version": 3
   },
   "file_extension": ".py",
   "mimetype": "text/x-python",
   "name": "python",
   "nbconvert_exporter": "python",
   "pygments_lexer": "ipython3",
   "version": "3.10.6"
  }
 },
 "nbformat": 4,
 "nbformat_minor": 5
}
