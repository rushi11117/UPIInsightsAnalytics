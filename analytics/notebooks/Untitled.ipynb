{
 "cells": [
  {
   "cell_type": "code",
   "execution_count": 88,
   "id": "6165d4f0-8b68-4e70-8f76-60054001394f",
   "metadata": {},
   "outputs": [],
   "source": [
    "import os\n",
    "import zipfile\n",
    "\n",
    "def files_in_folders(root_folder, extension):\n",
    "    matching_files_array = []\n",
    "    for root, dirs, files in os.walk(root_folder):\n",
    "        for file in files:\n",
    "            _, file_extension = os.path.splitext(file)\n",
    "            if str(file_extension.lower()) == str(extension.lower()):\n",
    "                matching_files_array.append(os.path.join(root))\n",
    "    return matching_files_array\n",
    "\n",
    "\n",
    "shapefile_server = 'D:\\Data Visualization\\official_maharshtra_india_village_boundary_shapefile-master\\GroupedFiles'\n"
   ]
  },
  {
   "cell_type": "code",
   "execution_count": 49,
   "id": "d847c0e0-c213-459b-8ac1-baeecb983bfb",
   "metadata": {},
   "outputs": [],
   "source": [
    "# execute once\n",
    "\n",
    "for file in files_in_folders(shapefile_server, '.shp'):\n",
    "    zip_file_path = os.path.join(file)\n",
    "    extract_folder = os.path.splitext(file)[0]\n",
    "    if not os.path.exists(extract_folder):\n",
    "        os.makedirs(extract_folder)\n",
    "    with zipfile.ZipFile(zip_file_path, 'r') as zip_ref:\n",
    "        zip_ref.extractall(extract_folder)"
   ]
  },
  {
   "cell_type": "code",
   "execution_count": 2,
   "id": "92e42261-e3d4-4bd5-8da2-cfdb0071f304",
   "metadata": {},
   "outputs": [],
   "source": [
    "# import geopandas as gpd\n",
    "# from shapely.geometry import Polygon\n",
    "# import pandas as pd\n",
    "# complete_shape_file = 'D:\\Data Visualization\\official_maharshtra_india_village_boundary_shapefile-master\\maharashtra.shp'\n",
    "\n",
    "# empty_gdf = gpd.GeoDataFrame(columns=['id'])\n",
    "# empty_gdf.loc[0] = [None]\n",
    "\n",
    "# empty_gdf['geometry'] = None\n",
    "\n",
    "# empty_gdf.to_file(complete_shape_file)\n",
    "# complete_shape_fd = gpd.read_file(complete_shape_file)\n",
    "\n",
    "\n",
    "# for shape_file in files_in_folders(shapefile_server, '.shp'):\n",
    "#     if len(shape_file.split('.')) != 1:\n",
    "#         shape_file_fd = gpd.read_file(shape_file)  \n",
    "#         complete_shape_fd = gpd.GeoDataFrame(pd.concat([complete_shape_fd, shape_file_fd], ignore_index=True), crs=complete_shape_fd.crs)\n",
    "\n",
    "\n",
    "import geopandas as gpd\n",
    "\n",
    "complete_shape_file = 'D:\\Data Visualization\\official_maharshtra_india_village_boundary_shapefile-master\\maharashtra.shp'\n",
    "\n",
    "try:\n",
    "    # Load the first shapefile as the base GeoDataFrame\n",
    "    complete_shape_fd = gpd.read_file(complete_shape_file)\n",
    "\n",
    "    # Iterate through other shapefiles and append their data to the base GeoDataFrame\n",
    "    for shape_file in files_in_folders(shapefile_server, '.shp'):\n",
    "        try:\n",
    "            if len(shape_file.split('.')) != 1:\n",
    "                shape_file_fd = gpd.read_file(shape_file)  \n",
    "                complete_shape_fd = gpd.GeoDataFrame(pd.concat([complete_shape_fd, shape_file_fd], ignore_index=True), crs=complete_shape_fd.crs)\n",
    "        except Exception as e:\n",
    "            print(f\"Error reading file '{shape_file}': {e}\")\n",
    "            # Continue to the next file in case of an error\n",
    "            continue\n",
    "\n",
    "    # Save the merged GeoDataFrame as a new shapefile\n",
    "    complete_shape_fd.to_file('D:\\Data Visualization\\official_maharshtra_india_village_boundary_shapefile-master\\merged_shapefile.shp')\n",
    "\n",
    "except Exception as e:\n",
    "    pass\n",
    "    # print(f\"Error reading base shapefile '{complete_shape_file}': {e}\")\n"
   ]
  },
  {
   "cell_type": "code",
   "execution_count": 3,
   "id": "c57943bb-955c-4262-b569-1e26ae88ad18",
   "metadata": {},
   "outputs": [],
   "source": [
    "# print(gpd.read_file('D:\\Data Visualization\\official_maharshtra_india_village_boundary_shapefile-master\\GroupedFiles\\Ahmadnagar\\Zip\\Ahmadnagar_District_Village_Boundary.shp'))"
   ]
  }
 ],
 "metadata": {
  "kernelspec": {
   "display_name": "Python 3 (ipykernel)",
   "language": "python",
   "name": "python3"
  },
  "language_info": {
   "codemirror_mode": {
    "name": "ipython",
    "version": 3
   },
   "file_extension": ".py",
   "mimetype": "text/x-python",
   "name": "python",
   "nbconvert_exporter": "python",
   "pygments_lexer": "ipython3",
   "version": "3.10.6"
  }
 },
 "nbformat": 4,
 "nbformat_minor": 5
}
