{
 "cells": [
  {
   "cell_type": "code",
   "execution_count": 88,
   "id": "6165d4f0-8b68-4e70-8f76-60054001394f",
   "metadata": {},
   "outputs": [],
   "source": [
    "import os\n",
    "import zipfile\n",
    "\n",
    "def files_in_folders(root_folder, extension):\n",
    "    matching_files_array = []\n",
    "    for root, dirs, files in os.walk(root_folder):\n",
    "        for file in files:\n",
    "            _, file_extension = os.path.splitext(file)\n",
    "            if str(file_extension.lower()) == str(extension.lower()):\n",
    "                matching_files_array.append(os.path.join(root))\n",
    "    return matching_files_array\n",
    "\n",
    "\n",
    "shapefile_server = 'D:\\Data Visualization\\official_maharshtra_india_village_boundary_shapefile-master\\GroupedFiles'\n"
   ]
  },
  {
   "cell_type": "code",
   "execution_count": 49,
   "id": "d847c0e0-c213-459b-8ac1-baeecb983bfb",
   "metadata": {},
   "outputs": [],
   "source": [
    "# execute once\n",
    "\n",
    "for file in files_in_folders(shapefile_server, '.shp'):\n",
    "    zip_file_path = os.path.join(file)\n",
    "    extract_folder = os.path.splitext(file)[0]\n",
    "    if not os.path.exists(extract_folder):\n",
    "        os.makedirs(extract_folder)\n",
    "    with zipfile.ZipFile(zip_file_path, 'r') as zip_ref:\n",
    "        zip_ref.extractall(extract_folder)"
   ]
  },
  {
   "cell_type": "code",
   "execution_count": 99,
   "id": "92e42261-e3d4-4bd5-8da2-cfdb0071f304",
   "metadata": {},
   "outputs": [
    {
     "name": "stdout",
     "output_type": "stream",
     "text": [
      "Error reading file 'D:\\Data Visualization\\official_maharshtra_india_village_boundary_shapefile-master\\GroupedFiles\\Ahmadnagar\\Zip\\Ahmadnagar_District_Village_Boundary.shp': Null layer: ''\n",
      "Error reading file 'D:\\Data Visualization\\official_maharshtra_india_village_boundary_shapefile-master\\GroupedFiles\\Akola\\Akola_District_Village_Boundary.shp': Null layer: ''\n",
      "Error reading file 'D:\\Data Visualization\\official_maharshtra_india_village_boundary_shapefile-master\\GroupedFiles\\Amravati\\Amravati_District_Village_Boundary.shp': Null layer: ''\n",
      "Error reading file 'D:\\Data Visualization\\official_maharshtra_india_village_boundary_shapefile-master\\GroupedFiles\\Aurangabad\\Aurangabad_District_Village_Boundary.shp': Null layer: ''\n",
      "Error reading file 'D:\\Data Visualization\\official_maharshtra_india_village_boundary_shapefile-master\\GroupedFiles\\Beed\\Beed_District_Village_Boundary.shp': Null layer: ''\n",
      "Error reading file 'D:\\Data Visualization\\official_maharshtra_india_village_boundary_shapefile-master\\GroupedFiles\\Bhandara\\Bhandara_District_Village_Boundary.shp': Null layer: ''\n",
      "Error reading file 'D:\\Data Visualization\\official_maharshtra_india_village_boundary_shapefile-master\\GroupedFiles\\Buldana\\Buldana_District_Village_Boundary.shp': Null layer: ''\n",
      "Error reading file 'D:\\Data Visualization\\official_maharshtra_india_village_boundary_shapefile-master\\GroupedFiles\\Chandrapur\\Chandrapur_District_Village_Boundary.shp': Null layer: ''\n",
      "Error reading file 'D:\\Data Visualization\\official_maharshtra_india_village_boundary_shapefile-master\\GroupedFiles\\Dhule\\Dhule_District_Village_Boundary.shp': Null layer: ''\n",
      "Error reading file 'D:\\Data Visualization\\official_maharshtra_india_village_boundary_shapefile-master\\GroupedFiles\\empty\\empty_District_Village_Boundary.shp': Null layer: ''\n",
      "Error reading file 'D:\\Data Visualization\\official_maharshtra_india_village_boundary_shapefile-master\\GroupedFiles\\Gadchiroli\\Gadchiroli_District_Village_Boundary.shp': Null layer: ''\n",
      "Error reading file 'D:\\Data Visualization\\official_maharshtra_india_village_boundary_shapefile-master\\GroupedFiles\\Gondia\\Gondia_District_Village_Boundary.shp': Null layer: ''\n",
      "Error reading file 'D:\\Data Visualization\\official_maharshtra_india_village_boundary_shapefile-master\\GroupedFiles\\Hingoli\\Hingoli_District_Village_Boundary.shp': Null layer: ''\n",
      "Error reading file 'D:\\Data Visualization\\official_maharshtra_india_village_boundary_shapefile-master\\GroupedFiles\\Jalgaon\\Jalgaon_District_Village_Boundary.shp': Null layer: ''\n",
      "Error reading file 'D:\\Data Visualization\\official_maharshtra_india_village_boundary_shapefile-master\\GroupedFiles\\Jalna\\Jalna_District_Village_Boundary.shp': Null layer: ''\n",
      "Error reading file 'D:\\Data Visualization\\official_maharshtra_india_village_boundary_shapefile-master\\GroupedFiles\\Karnataka\\Karnataka_District_Village_Boundary.shp': Null layer: ''\n",
      "Error reading file 'D:\\Data Visualization\\official_maharshtra_india_village_boundary_shapefile-master\\GroupedFiles\\Kolhapur\\Kolhapur_District_Village_Boundary.shp': Null layer: ''\n",
      "Error reading file 'D:\\Data Visualization\\official_maharshtra_india_village_boundary_shapefile-master\\GroupedFiles\\Latur\\Latur_District_Village_Boundary.shp': Null layer: ''\n",
      "Error reading file 'D:\\Data Visualization\\official_maharshtra_india_village_boundary_shapefile-master\\GroupedFiles\\Mumbai\\Mumbai_District_Village_Boundary.shp': Null layer: ''\n",
      "Error reading file 'D:\\Data Visualization\\official_maharshtra_india_village_boundary_shapefile-master\\GroupedFiles\\Nagpur\\Nagpur_District_Village_Boundary.shp': Null layer: ''\n",
      "Error reading file 'D:\\Data Visualization\\official_maharshtra_india_village_boundary_shapefile-master\\GroupedFiles\\Nanded\\Nanded_District_Village_Boundary.shp': Null layer: ''\n",
      "Error reading file 'D:\\Data Visualization\\official_maharshtra_india_village_boundary_shapefile-master\\GroupedFiles\\Nandurbar\\Nandurbar_District_Village_Boundary.shp': Null layer: ''\n",
      "Error reading file 'D:\\Data Visualization\\official_maharshtra_india_village_boundary_shapefile-master\\GroupedFiles\\Nasik\\Nasik_District_Village_Boundary.shp': Null layer: ''\n",
      "Error reading file 'D:\\Data Visualization\\official_maharshtra_india_village_boundary_shapefile-master\\GroupedFiles\\Osmanabad\\Osmanabad_District_Village_Boundary.shp': Null layer: ''\n",
      "Error reading file 'D:\\Data Visualization\\official_maharshtra_india_village_boundary_shapefile-master\\GroupedFiles\\Parbhani\\Parbhani_District_Village_Boundary.shp': Null layer: ''\n",
      "Error reading file 'D:\\Data Visualization\\official_maharshtra_india_village_boundary_shapefile-master\\GroupedFiles\\Pune\\Pune_District_Village_Boundary.shp': Null layer: ''\n",
      "Error reading file 'D:\\Data Visualization\\official_maharshtra_india_village_boundary_shapefile-master\\GroupedFiles\\Raigad\\Raigad_District_Village_Boundary.shp': Null layer: ''\n",
      "Error reading file 'D:\\Data Visualization\\official_maharshtra_india_village_boundary_shapefile-master\\GroupedFiles\\Ratnagiri\\Ratnagiri_District_Village_Boundary.shp': Null layer: ''\n",
      "Error reading file 'D:\\Data Visualization\\official_maharshtra_india_village_boundary_shapefile-master\\GroupedFiles\\Sangali\\Sangali_District_Village_Boundary.shp': Null layer: ''\n",
      "Error reading file 'D:\\Data Visualization\\official_maharshtra_india_village_boundary_shapefile-master\\GroupedFiles\\Satara\\Satara_District_Village_Boundary.shp': Null layer: ''\n",
      "Error reading file 'D:\\Data Visualization\\official_maharshtra_india_village_boundary_shapefile-master\\GroupedFiles\\Sindhudurg\\Sindhudurg_District_Village_Boundary.shp': Null layer: ''\n",
      "Error reading file 'D:\\Data Visualization\\official_maharshtra_india_village_boundary_shapefile-master\\GroupedFiles\\Solapur\\Solapur_District_Village_Boundary.shp': Null layer: ''\n",
      "Error reading file 'D:\\Data Visualization\\official_maharshtra_india_village_boundary_shapefile-master\\GroupedFiles\\Thane\\Thane_District_Village_Boundary.shp': Null layer: ''\n",
      "Error reading file 'D:\\Data Visualization\\official_maharshtra_india_village_boundary_shapefile-master\\GroupedFiles\\Wardha\\Wardha_District_Village_Boundary.shp': Null layer: ''\n",
      "Error reading file 'D:\\Data Visualization\\official_maharshtra_india_village_boundary_shapefile-master\\GroupedFiles\\Washim\\Washim_District_Village_Boundary.shp': Null layer: ''\n",
      "Error reading file 'D:\\Data Visualization\\official_maharshtra_india_village_boundary_shapefile-master\\GroupedFiles\\Yavatmal\\Yavatmal_District_Village_Boundary.shp': Null layer: ''\n"
     ]
    }
   ],
   "source": [
    "# import geopandas as gpd\n",
    "# from shapely.geometry import Polygon\n",
    "# import pandas as pd\n",
    "# complete_shape_file = 'D:\\Data Visualization\\official_maharshtra_india_village_boundary_shapefile-master\\maharashtra.shp'\n",
    "\n",
    "# empty_gdf = gpd.GeoDataFrame(columns=['id'])\n",
    "# empty_gdf.loc[0] = [None]\n",
    "\n",
    "# empty_gdf['geometry'] = None\n",
    "\n",
    "# empty_gdf.to_file(complete_shape_file)\n",
    "# complete_shape_fd = gpd.read_file(complete_shape_file)\n",
    "\n",
    "\n",
    "# for shape_file in files_in_folders(shapefile_server, '.shp'):\n",
    "#     if len(shape_file.split('.')) != 1:\n",
    "#         shape_file_fd = gpd.read_file(shape_file)  \n",
    "#         complete_shape_fd = gpd.GeoDataFrame(pd.concat([complete_shape_fd, shape_file_fd], ignore_index=True), crs=complete_shape_fd.crs)\n",
    "\n",
    "\n",
    "import geopandas as gpd\n",
    "\n",
    "complete_shape_file = 'D:\\Data Visualization\\official_maharshtra_india_village_boundary_shapefile-master\\maharashtra.shp'\n",
    "\n",
    "try:\n",
    "    # Load the first shapefile as the base GeoDataFrame\n",
    "    complete_shape_fd = gpd.read_file(complete_shape_file)\n",
    "\n",
    "    # Iterate through other shapefiles and append their data to the base GeoDataFrame\n",
    "    for shape_file in files_in_folders(shapefile_server, '.shp'):\n",
    "        try:\n",
    "            if len(shape_file.split('.')) != 1:\n",
    "                shape_file_fd = gpd.read_file(shape_file)  \n",
    "                complete_shape_fd = gpd.GeoDataFrame(pd.concat([complete_shape_fd, shape_file_fd], ignore_index=True), crs=complete_shape_fd.crs)\n",
    "        except Exception as e:\n",
    "            print(f\"Error reading file '{shape_file}': {e}\")\n",
    "            # Continue to the next file in case of an error\n",
    "            continue\n",
    "\n",
    "    # Save the merged GeoDataFrame as a new shapefile\n",
    "    complete_shape_fd.to_file('D:\\Data Visualization\\official_maharshtra_india_village_boundary_shapefile-master\\merged_shapefile.shp')\n",
    "\n",
    "except Exception as e:\n",
    "    print(f\"Error reading base shapefile '{complete_shape_file}': {e}\")\n"
   ]
  },
  {
   "cell_type": "code",
   "execution_count": 103,
   "id": "c57943bb-955c-4262-b569-1e26ae88ad18",
   "metadata": {},
   "outputs": [
    {
     "ename": "ValueError",
     "evalue": "Null layer: ''",
     "output_type": "error",
     "traceback": [
      "\u001b[1;31m---------------------------------------------------------------------------\u001b[0m",
      "\u001b[1;31mValueError\u001b[0m                                Traceback (most recent call last)",
      "Cell \u001b[1;32mIn[103], line 1\u001b[0m\n\u001b[1;32m----> 1\u001b[0m \u001b[38;5;28mprint\u001b[39m(\u001b[43mgpd\u001b[49m\u001b[38;5;241;43m.\u001b[39;49m\u001b[43mread_file\u001b[49m\u001b[43m(\u001b[49m\u001b[38;5;124;43m'\u001b[39;49m\u001b[38;5;124;43mD:\u001b[39;49m\u001b[38;5;124;43m\\\u001b[39;49m\u001b[38;5;124;43mData Visualization\u001b[39;49m\u001b[38;5;124;43m\\\u001b[39;49m\u001b[38;5;124;43mofficial_maharshtra_india_village_boundary_shapefile-master\u001b[39;49m\u001b[38;5;124;43m\\\u001b[39;49m\u001b[38;5;124;43mGroupedFiles\u001b[39;49m\u001b[38;5;124;43m\\\u001b[39;49m\u001b[38;5;124;43mAhmadnagar\u001b[39;49m\u001b[38;5;124;43m\\\u001b[39;49m\u001b[38;5;124;43mZip\u001b[39;49m\u001b[38;5;124;43m\\\u001b[39;49m\u001b[38;5;124;43mAhmadnagar_District_Village_Boundary.shp\u001b[39;49m\u001b[38;5;124;43m'\u001b[39;49m\u001b[43m)\u001b[49m)\n",
      "File \u001b[1;32m~\\AppData\\Local\\Programs\\Python\\Python310\\lib\\site-packages\\geopandas\\io\\file.py:297\u001b[0m, in \u001b[0;36m_read_file\u001b[1;34m(filename, bbox, mask, rows, engine, **kwargs)\u001b[0m\n\u001b[0;32m    294\u001b[0m     \u001b[38;5;28;01melse\u001b[39;00m:\n\u001b[0;32m    295\u001b[0m         path_or_bytes \u001b[38;5;241m=\u001b[39m filename\n\u001b[1;32m--> 297\u001b[0m     \u001b[38;5;28;01mreturn\u001b[39;00m _read_file_fiona(\n\u001b[0;32m    298\u001b[0m         path_or_bytes, from_bytes, bbox\u001b[38;5;241m=\u001b[39mbbox, mask\u001b[38;5;241m=\u001b[39mmask, rows\u001b[38;5;241m=\u001b[39mrows, \u001b[38;5;241m*\u001b[39m\u001b[38;5;241m*\u001b[39mkwargs\n\u001b[0;32m    299\u001b[0m     )\n\u001b[0;32m    301\u001b[0m \u001b[38;5;28;01melse\u001b[39;00m:\n\u001b[0;32m    302\u001b[0m     \u001b[38;5;28;01mraise\u001b[39;00m \u001b[38;5;167;01mValueError\u001b[39;00m(\u001b[38;5;124mf\u001b[39m\u001b[38;5;124m\"\u001b[39m\u001b[38;5;124munknown engine \u001b[39m\u001b[38;5;124m'\u001b[39m\u001b[38;5;132;01m{\u001b[39;00mengine\u001b[38;5;132;01m}\u001b[39;00m\u001b[38;5;124m'\u001b[39m\u001b[38;5;124m\"\u001b[39m)\n",
      "File \u001b[1;32m~\\AppData\\Local\\Programs\\Python\\Python310\\lib\\site-packages\\geopandas\\io\\file.py:338\u001b[0m, in \u001b[0;36m_read_file_fiona\u001b[1;34m(path_or_bytes, from_bytes, bbox, mask, rows, where, **kwargs)\u001b[0m\n\u001b[0;32m    335\u001b[0m     reader \u001b[38;5;241m=\u001b[39m fiona\u001b[38;5;241m.\u001b[39mopen\n\u001b[0;32m    337\u001b[0m \u001b[38;5;28;01mwith\u001b[39;00m fiona_env():\n\u001b[1;32m--> 338\u001b[0m     \u001b[38;5;28;01mwith\u001b[39;00m reader(path_or_bytes, \u001b[38;5;241m*\u001b[39m\u001b[38;5;241m*\u001b[39mkwargs) \u001b[38;5;28;01mas\u001b[39;00m features:\n\u001b[0;32m    339\u001b[0m         crs \u001b[38;5;241m=\u001b[39m features\u001b[38;5;241m.\u001b[39mcrs_wkt\n\u001b[0;32m    340\u001b[0m         \u001b[38;5;66;03m# attempt to get EPSG code\u001b[39;00m\n",
      "File \u001b[1;32m~\\AppData\\Local\\Programs\\Python\\Python310\\lib\\site-packages\\fiona\\env.py:457\u001b[0m, in \u001b[0;36mensure_env_with_credentials.<locals>.wrapper\u001b[1;34m(*args, **kwds)\u001b[0m\n\u001b[0;32m    454\u001b[0m     session \u001b[38;5;241m=\u001b[39m DummySession()\n\u001b[0;32m    456\u001b[0m \u001b[38;5;28;01mwith\u001b[39;00m env_ctor(session\u001b[38;5;241m=\u001b[39msession):\n\u001b[1;32m--> 457\u001b[0m     \u001b[38;5;28;01mreturn\u001b[39;00m f(\u001b[38;5;241m*\u001b[39margs, \u001b[38;5;241m*\u001b[39m\u001b[38;5;241m*\u001b[39mkwds)\n",
      "File \u001b[1;32m~\\AppData\\Local\\Programs\\Python\\Python310\\lib\\site-packages\\fiona\\__init__.py:305\u001b[0m, in \u001b[0;36mopen\u001b[1;34m(fp, mode, driver, schema, crs, encoding, layer, vfs, enabled_drivers, crs_wkt, allow_unsupported_drivers, **kwargs)\u001b[0m\n\u001b[0;32m    302\u001b[0m     path \u001b[38;5;241m=\u001b[39m parse_path(fp)\n\u001b[0;32m    304\u001b[0m \u001b[38;5;28;01mif\u001b[39;00m mode \u001b[38;5;129;01min\u001b[39;00m (\u001b[38;5;124m\"\u001b[39m\u001b[38;5;124ma\u001b[39m\u001b[38;5;124m\"\u001b[39m, \u001b[38;5;124m\"\u001b[39m\u001b[38;5;124mr\u001b[39m\u001b[38;5;124m\"\u001b[39m):\n\u001b[1;32m--> 305\u001b[0m     colxn \u001b[38;5;241m=\u001b[39m Collection(\n\u001b[0;32m    306\u001b[0m         path,\n\u001b[0;32m    307\u001b[0m         mode,\n\u001b[0;32m    308\u001b[0m         driver\u001b[38;5;241m=\u001b[39mdriver,\n\u001b[0;32m    309\u001b[0m         encoding\u001b[38;5;241m=\u001b[39mencoding,\n\u001b[0;32m    310\u001b[0m         layer\u001b[38;5;241m=\u001b[39mlayer,\n\u001b[0;32m    311\u001b[0m         enabled_drivers\u001b[38;5;241m=\u001b[39menabled_drivers,\n\u001b[0;32m    312\u001b[0m         allow_unsupported_drivers\u001b[38;5;241m=\u001b[39mallow_unsupported_drivers,\n\u001b[0;32m    313\u001b[0m         \u001b[38;5;241m*\u001b[39m\u001b[38;5;241m*\u001b[39mkwargs\n\u001b[0;32m    314\u001b[0m     )\n\u001b[0;32m    315\u001b[0m \u001b[38;5;28;01melif\u001b[39;00m mode \u001b[38;5;241m==\u001b[39m \u001b[38;5;124m\"\u001b[39m\u001b[38;5;124mw\u001b[39m\u001b[38;5;124m\"\u001b[39m:\n\u001b[0;32m    316\u001b[0m     colxn \u001b[38;5;241m=\u001b[39m Collection(\n\u001b[0;32m    317\u001b[0m         path,\n\u001b[0;32m    318\u001b[0m         mode,\n\u001b[1;32m   (...)\u001b[0m\n\u001b[0;32m    327\u001b[0m         \u001b[38;5;241m*\u001b[39m\u001b[38;5;241m*\u001b[39mkwargs\n\u001b[0;32m    328\u001b[0m     )\n",
      "File \u001b[1;32m~\\AppData\\Local\\Programs\\Python\\Python310\\lib\\site-packages\\fiona\\collection.py:243\u001b[0m, in \u001b[0;36mCollection.__init__\u001b[1;34m(self, path, mode, driver, schema, crs, encoding, layer, vsi, archive, enabled_drivers, crs_wkt, ignore_fields, ignore_geometry, include_fields, wkt_version, allow_unsupported_drivers, **kwargs)\u001b[0m\n\u001b[0;32m    241\u001b[0m \u001b[38;5;28;01mif\u001b[39;00m \u001b[38;5;28mself\u001b[39m\u001b[38;5;241m.\u001b[39mmode \u001b[38;5;241m==\u001b[39m \u001b[38;5;124m\"\u001b[39m\u001b[38;5;124mr\u001b[39m\u001b[38;5;124m\"\u001b[39m:\n\u001b[0;32m    242\u001b[0m     \u001b[38;5;28mself\u001b[39m\u001b[38;5;241m.\u001b[39msession \u001b[38;5;241m=\u001b[39m Session()\n\u001b[1;32m--> 243\u001b[0m     \u001b[38;5;28mself\u001b[39m\u001b[38;5;241m.\u001b[39msession\u001b[38;5;241m.\u001b[39mstart(\u001b[38;5;28mself\u001b[39m, \u001b[38;5;241m*\u001b[39m\u001b[38;5;241m*\u001b[39mkwargs)\n\u001b[0;32m    244\u001b[0m \u001b[38;5;28;01melif\u001b[39;00m \u001b[38;5;28mself\u001b[39m\u001b[38;5;241m.\u001b[39mmode \u001b[38;5;129;01min\u001b[39;00m (\u001b[38;5;124m\"\u001b[39m\u001b[38;5;124ma\u001b[39m\u001b[38;5;124m\"\u001b[39m, \u001b[38;5;124m\"\u001b[39m\u001b[38;5;124mw\u001b[39m\u001b[38;5;124m\"\u001b[39m):\n\u001b[0;32m    245\u001b[0m     \u001b[38;5;28mself\u001b[39m\u001b[38;5;241m.\u001b[39msession \u001b[38;5;241m=\u001b[39m WritingSession()\n",
      "File \u001b[1;32mfiona\\\\ogrext.pyx:601\u001b[0m, in \u001b[0;36mfiona.ogrext.Session.start\u001b[1;34m()\u001b[0m\n",
      "\u001b[1;31mValueError\u001b[0m: Null layer: ''"
     ]
    }
   ],
   "source": [
    "print(gpd.read_file('D:\\Data Visualization\\official_maharshtra_india_village_boundary_shapefile-master\\GroupedFiles\\Ahmadnagar\\Zip\\Ahmadnagar_District_Village_Boundary.shp'))"
   ]
  }
 ],
 "metadata": {
  "kernelspec": {
   "display_name": "Python 3 (ipykernel)",
   "language": "python",
   "name": "python3"
  },
  "language_info": {
   "codemirror_mode": {
    "name": "ipython",
    "version": 3
   },
   "file_extension": ".py",
   "mimetype": "text/x-python",
   "name": "python",
   "nbconvert_exporter": "python",
   "pygments_lexer": "ipython3",
   "version": "3.10.6"
  }
 },
 "nbformat": 4,
 "nbformat_minor": 5
}
