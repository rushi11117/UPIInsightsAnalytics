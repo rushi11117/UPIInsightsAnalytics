{
 "cells": [
  {
   "cell_type": "code",
   "execution_count": 3,
   "id": "813d69a6-7b8b-40e7-aee1-a5ab218d67e1",
   "metadata": {},
   "outputs": [],
   "source": [
    "# ! pip install mplleaflet\n",
    "# ! pip install geopandas \n",
    "import geopandas as gpd\n",
    "import numpy as np\n",
    "import csv\n",
    "from shapely.geometry import Point\n",
    "import mplleaflet"
   ]
  },
  {
   "cell_type": "code",
   "execution_count": 1,
   "id": "052b0d57-3f95-467f-84b4-71702beade3b",
   "metadata": {},
   "outputs": [],
   "source": [
    "file_path = r'D:\\Data Analysis\\upi_data_analytics\\analytics\\data\\processed_data\\UPI.coordinates.csv'\n",
    "failed_transactions = []"
   ]
  },
  {
   "cell_type": "code",
   "execution_count": 4,
   "id": "83593627-2e6f-4e26-9d2d-ee3c3a13b1b7",
   "metadata": {},
   "outputs": [
    {
     "name": "stdout",
     "output_type": "stream",
     "text": [
      "1885\n"
     ]
    }
   ],
   "source": [
    "with open(file_path, mode='r') as file:\n",
    "    reader = csv.DictReader(file)\n",
    "    for row in reader:\n",
    "        if row.get('transaction_status') == 'TRANSACTION_FAILED':\n",
    "            failed_transactions.append(tuple(row.items()))\n",
    "print(len(failed_transactions))"
   ]
  },
  {
   "cell_type": "code",
   "execution_count": 4,
   "id": "fa347270-10bd-432a-be6f-e2e1006be339",
   "metadata": {},
   "outputs": [],
   "source": [
    "import geopandas as gpd\n",
    "file = r'D:\\Data Visualization\\shapefiles\\maharashtra_district.shp'\n",
    "data_shapefile = gpd.read_file(file)"
   ]
  },
  {
   "cell_type": "code",
   "execution_count": 7,
   "id": "d07f400e-b683-4bc9-86a0-03b1cb1aceb5",
   "metadata": {},
   "outputs": [],
   "source": [
    "import fiona\n",
    "import shapely.geometry \n",
    "\n",
    "def check_point_lies_within(logitude, latitude):\n",
    "    # point = Point(logitude, latitude)\n",
    "    # for index, row in data_shapefile.iterrows():\n",
    "    #     if row['geometry'].contains(point):\n",
    "    #         return True\n",
    "    # return False\n",
    "\n",
    "    \n",
    "    with fiona.open(r\"D:\\Data Visualization\\shapefiles\\maharashtra_district.shp\") as fiona_collection:\n",
    "    \n",
    "        shapefile_record = fiona_collection.next()\n",
    "    \n",
    "    # Use Shapely to create the polygon\n",
    "        shape = shapely.geometry.asShape(shapefile_record['geometry'])\n",
    "    #print(shape)\n",
    "    \n",
    "        point = shapely.geometry.Point(logitude,latitude) # longitude, latitude\n",
    "    \n",
    "    # Alternative: if point.within(shape)\n",
    "    for transaction in failed_transactions:\n",
    "        \n",
    "        if shape.contains(point):\n",
    "            return True\n",
    "        return False"
   ]
  },
  {
   "cell_type": "code",
   "execution_count": 9,
   "id": "a3e021a2-2286-4b67-ad59-dd8423265169",
   "metadata": {},
   "outputs": [
    {
     "name": "stderr",
     "output_type": "stream",
     "text": [
      "C:\\Users\\rushi\\AppData\\Local\\Temp\\ipykernel_5468\\2015967972.py:14: FionaDeprecationWarning: Collection.__next__() is buggy and will be removed in Fiona 2.0. Switch to `next(iter(collection))`.\n",
      "  shapefile_record = fiona_collection.next()\n"
     ]
    },
    {
     "ename": "AttributeError",
     "evalue": "module 'shapely.geometry' has no attribute 'asShape'",
     "output_type": "error",
     "traceback": [
      "\u001b[1;31m---------------------------------------------------------------------------\u001b[0m",
      "\u001b[1;31mAttributeError\u001b[0m                            Traceback (most recent call last)",
      "Cell \u001b[1;32mIn[9], line 5\u001b[0m\n\u001b[0;32m      3\u001b[0m logitude \u001b[38;5;241m=\u001b[39m \u001b[38;5;28mfloat\u001b[39m(failed_transactions[i][\u001b[38;5;241m1\u001b[39m][\u001b[38;5;241m1\u001b[39m][:\u001b[38;5;241m-\u001b[39m\u001b[38;5;241m1\u001b[39m])\n\u001b[0;32m      4\u001b[0m latitude \u001b[38;5;241m=\u001b[39m \u001b[38;5;28mfloat\u001b[39m(failed_transactions[i][\u001b[38;5;241m2\u001b[39m][\u001b[38;5;241m1\u001b[39m][:\u001b[38;5;241m-\u001b[39m\u001b[38;5;241m1\u001b[39m])\n\u001b[1;32m----> 5\u001b[0m \u001b[38;5;28;01mif\u001b[39;00m \u001b[43mcheck_point_lies_within\u001b[49m\u001b[43m(\u001b[49m\u001b[43mlogitude\u001b[49m\u001b[43m,\u001b[49m\u001b[43m \u001b[49m\u001b[43mlatitude\u001b[49m\u001b[43m)\u001b[49m:\n\u001b[0;32m      6\u001b[0m     logitudes\u001b[38;5;241m.\u001b[39mappend(logitude)\n\u001b[0;32m      7\u001b[0m     latitudes\u001b[38;5;241m.\u001b[39mappend(latitude)\n",
      "Cell \u001b[1;32mIn[7], line 17\u001b[0m, in \u001b[0;36mcheck_point_lies_within\u001b[1;34m(logitude, latitude)\u001b[0m\n\u001b[0;32m     14\u001b[0m     shapefile_record \u001b[38;5;241m=\u001b[39m fiona_collection\u001b[38;5;241m.\u001b[39mnext()\n\u001b[0;32m     16\u001b[0m \u001b[38;5;66;03m# Use Shapely to create the polygon\u001b[39;00m\n\u001b[1;32m---> 17\u001b[0m     shape \u001b[38;5;241m=\u001b[39m \u001b[43mshapely\u001b[49m\u001b[38;5;241;43m.\u001b[39;49m\u001b[43mgeometry\u001b[49m\u001b[38;5;241;43m.\u001b[39;49m\u001b[43masShape\u001b[49m(shapefile_record[\u001b[38;5;124m'\u001b[39m\u001b[38;5;124mgeometry\u001b[39m\u001b[38;5;124m'\u001b[39m])\n\u001b[0;32m     18\u001b[0m \u001b[38;5;66;03m#print(shape)\u001b[39;00m\n\u001b[0;32m     20\u001b[0m     point \u001b[38;5;241m=\u001b[39m shapely\u001b[38;5;241m.\u001b[39mgeometry\u001b[38;5;241m.\u001b[39mPoint(logitude,latitude) \u001b[38;5;66;03m# longitude, latitude\u001b[39;00m\n",
      "\u001b[1;31mAttributeError\u001b[0m: module 'shapely.geometry' has no attribute 'asShape'"
     ]
    }
   ],
   "source": [
    "logitudes ,latitudes = [] ,[]\n",
    "for i in range(len(failed_transactions)):\n",
    "    logitude = float(failed_transactions[i][1][1][:-1])\n",
    "    latitude = float(failed_transactions[i][2][1][:-1])\n",
    "    if check_point_lies_within(logitude, latitude):\n",
    "        logitudes.append(logitude)\n",
    "        latitudes.append(latitude)\n",
    "    "
   ]
  },
  {
   "cell_type": "code",
   "execution_count": 12,
   "id": "f0305261-aace-4987-824f-b7714037d601",
   "metadata": {},
   "outputs": [],
   "source": [
    "points_data = {\n",
    "    'ID': [i for i in range(len(latitudes))],\n",
    "    'latitude' : latitudes,\n",
    "    'longitude' : logitudes\n",
    "}"
   ]
  },
  {
   "cell_type": "code",
   "execution_count": 11,
   "id": "80f91480-bfbe-4ace-bac5-ecdaa4053dd9",
   "metadata": {},
   "outputs": [
    {
     "ename": "NameError",
     "evalue": "name 'data_shapefile' is not defined",
     "output_type": "error",
     "traceback": [
      "\u001b[1;31m---------------------------------------------------------------------------\u001b[0m",
      "\u001b[1;31mNameError\u001b[0m                                 Traceback (most recent call last)",
      "Cell \u001b[1;32mIn[11], line 3\u001b[0m\n\u001b[0;32m      1\u001b[0m \u001b[38;5;66;03m# print(data_shapefile)\u001b[39;00m\n\u001b[0;32m      2\u001b[0m \u001b[38;5;66;03m# for i in range(1,35):\u001b[39;00m\n\u001b[1;32m----> 3\u001b[0m \u001b[43mdata_shapefile\u001b[49m[\u001b[38;5;124m'\u001b[39m\u001b[38;5;124mgeometry\u001b[39m\u001b[38;5;124m'\u001b[39m][\u001b[38;5;241m12\u001b[39m]\n",
      "\u001b[1;31mNameError\u001b[0m: name 'data_shapefile' is not defined"
     ]
    }
   ],
   "source": [
    "# print(data_shapefile)\n",
    "# for i in range(1,35):\n",
    "data_shapefile['geometry'][12]"
   ]
  },
  {
   "cell_type": "code",
   "execution_count": 57,
   "id": "23f03ed7-6c96-4a73-bf7a-eecf40807394",
   "metadata": {},
   "outputs": [],
   "source": [
    "\n",
    "points_df = gpd.GeoDataFrame(points_data, geometry=gpd.points_from_xy(points_data['latitude'], points_data['longitude']))\n",
    "ax = data_shapefile.plot(color='blue', alpha=0.5, figsize=(10, 10))\n",
    "# points_df.plot(ax=ax, color='red', markersize=15, label='Points')\n",
    "# mplleaflet.display(fig=ax.figure)"
   ]
  },
  {
   "cell_type": "code",
   "execution_count": 63,
   "id": "64f5f327-d32d-4709-8bdc-51f4c8255cd9",
   "metadata": {},
   "outputs": [
    {
     "ename": "SyntaxError",
     "evalue": "Missing parentheses in call to 'print'. Did you mean print(...)? (3259905328.py, line 15)",
     "output_type": "error",
     "traceback": [
      "\u001b[1;36m  Cell \u001b[1;32mIn[63], line 15\u001b[1;36m\u001b[0m\n\u001b[1;33m    print 'polygon points =', polygon  # this prints 'multipoint' + all the points fine\u001b[0m\n\u001b[1;37m    ^\u001b[0m\n\u001b[1;31mSyntaxError\u001b[0m\u001b[1;31m:\u001b[0m Missing parentheses in call to 'print'. Did you mean print(...)?\n"
     ]
    }
   ],
   "source": []
  }
 ],
 "metadata": {
  "kernelspec": {
   "display_name": "Python 3 (ipykernel)",
   "language": "python",
   "name": "python3"
  },
  "language_info": {
   "codemirror_mode": {
    "name": "ipython",
    "version": 3
   },
   "file_extension": ".py",
   "mimetype": "text/x-python",
   "name": "python",
   "nbconvert_exporter": "python",
   "pygments_lexer": "ipython3",
   "version": "3.10.6"
  }
 },
 "nbformat": 4,
 "nbformat_minor": 5
}
