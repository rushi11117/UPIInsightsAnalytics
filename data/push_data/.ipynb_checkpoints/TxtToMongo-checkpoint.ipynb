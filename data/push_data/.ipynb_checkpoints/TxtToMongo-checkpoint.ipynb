{
 "cells": [
  {
   "cell_type": "code",
   "execution_count": null,
   "id": "6bc75ce4-e4fa-4b07-af36-8793ad06b506",
   "metadata": {},
   "outputs": [],
   "source": [
    "# Read data from the text file\n",
    "data = []\n",
    "with open('data.txt', 'r') as file:\n",
    "    for line in file:\n",
    "        cities = line.strip().split(',')\n",
    "        for city in cities:\n",
    "            if city:\n",
    "                data.append({\n",
    "                    'city': city[2:-1]\n",
    "                })\n",
    "from pymongo import MongoClient\n",
    "\n",
    "# Connect to MongoDB (assuming it's running locally on default port)\n",
    "client = MongoClient('localhost', 27017)\n",
    "db = client['UPI']  # Replace 'your_database' with your database name\n",
    "collection = db['locations']  # Replace 'your_collection' with your collection name\n",
    "# Insert data into MongoDB collection\n",
    "collection.insert_many(data)\n"
   ]
  }
 ],
 "metadata": {
  "kernelspec": {
   "display_name": "Python 3 (ipykernel)",
   "language": "python",
   "name": "python3"
  },
  "language_info": {
   "codemirror_mode": {
    "name": "ipython",
    "version": 3
   },
   "file_extension": ".py",
   "mimetype": "text/x-python",
   "name": "python",
   "nbconvert_exporter": "python",
   "pygments_lexer": "ipython3",
   "version": "3.10.6"
  }
 },
 "nbformat": 4,
 "nbformat_minor": 5
}
