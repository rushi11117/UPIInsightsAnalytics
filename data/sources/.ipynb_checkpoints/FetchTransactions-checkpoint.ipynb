{
 "cells": [
  {
   "cell_type": "markdown",
   "id": "e41ac5c6-e8c2-44b9-b3bb-c5fa7c3d5edc",
   "metadata": {},
   "source": [
    "#### Imports Requered for Scraping or Access microsevice endpoint"
   ]
  },
  {
   "cell_type": "code",
   "execution_count": 36,
   "id": "5fd6575a-c722-40c2-b95a-35a4a679747e",
   "metadata": {
    "scrolled": true
   },
   "outputs": [
    {
     "name": "stderr",
     "output_type": "stream",
     "text": [
      "\n",
      "[notice] A new release of pip available: 22.2.1 -> 23.3.2\n",
      "[notice] To update, run: python.exe -m pip install --upgrade pip\n"
     ]
    },
    {
     "name": "stdout",
     "output_type": "stream",
     "text": [
      "Requirement already satisfied: requests in c:\\users\\rushi\\appdata\\local\\programs\\python\\python310\\lib\\site-packages (2.31.0)\n",
      "Requirement already satisfied: urllib3<3,>=1.21.1 in c:\\users\\rushi\\appdata\\local\\programs\\python\\python310\\lib\\site-packages (from requests) (2.1.0)\n",
      "Requirement already satisfied: idna<4,>=2.5 in c:\\users\\rushi\\appdata\\local\\programs\\python\\python310\\lib\\site-packages (from requests) (3.6)\n",
      "Requirement already satisfied: certifi>=2017.4.17 in c:\\users\\rushi\\appdata\\local\\programs\\python\\python310\\lib\\site-packages (from requests) (2023.11.17)\n",
      "Requirement already satisfied: charset-normalizer<4,>=2 in c:\\users\\rushi\\appdata\\local\\programs\\python\\python310\\lib\\site-packages (from requests) (3.3.2)\n"
     ]
    }
   ],
   "source": [
    "!pip install requests\n",
    "import requests\n",
    "import pandas as pd\n",
    "from pymongo import MongoClient"
   ]
  },
  {
   "cell_type": "code",
   "execution_count": 39,
   "id": "bf6ed5a7-e364-45d4-85f6-0f17c11fe3eb",
   "metadata": {},
   "outputs": [],
   "source": [
    "# help(requests)\n",
    "try:\n",
    "    ResponseEntity = requests.get('http://localhost:8085/transactions-insights')\n",
    "except HTTPError as e:\n",
    "    print(e)\n",
    "transactionDf = pd.DataFrame(ResponseEntity.json()"
   ]
  },
  {
   "cell_type": "code",
   "execution_count": null,
   "id": "16f69ce0-16cd-4a4c-b9b1-201c19b3ace8",
   "metadata": {},
   "outputs": [],
   "source": [
    "try:\n",
    "    cities = "
   ]
  }
 ],
 "metadata": {
  "kernelspec": {
   "display_name": "Python 3 (ipykernel)",
   "language": "python",
   "name": "python3"
  },
  "language_info": {
   "codemirror_mode": {
    "name": "ipython",
    "version": 3
   },
   "file_extension": ".py",
   "mimetype": "text/x-python",
   "name": "python",
   "nbconvert_exporter": "python",
   "pygments_lexer": "ipython3",
   "version": "3.10.6"
  }
 },
 "nbformat": 4,
 "nbformat_minor": 5
}
