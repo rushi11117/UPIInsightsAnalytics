{
 "cells": [
  {
   "cell_type": "code",
   "execution_count": 10,
   "id": "026b466e-6c0f-4a1f-836b-b64a9c9bb37b",
   "metadata": {},
   "outputs": [],
   "source": [
    "import random\n",
    "import json\n",
    "\n",
    "def generate_coordinates():\n",
    "    latitude = round(random.uniform(15.35, 22.02), 2)\n",
    "    longitude = round(random.uniform(72.36, 80.54), 2)\n",
    "    lat_direction = 'N' if latitude >= 0 else 'S'\n",
    "    lon_direction = 'E' if longitude >= 0 else 'W'\n",
    "    coordinates = {\n",
    "        \"latitude\": f\"{abs(latitude):.2f}{lat_direction}\",\n",
    "        \"longitude\": f\"{abs(longitude):.2f}{lon_direction}\"\n",
    "    }\n",
    "    return coordinates\n",
    "\n",
    "coordinates_json = {\n",
    "    i: generate_coordinates() for i in range(100)\n",
    "}\n",
    "\n",
    "with open('coordinates.json', 'w') as outfile:\n",
    "    json.dump(coordinates_json, outfile, indent=2)\n"
   ]
  }
 ],
 "metadata": {
  "kernelspec": {
   "display_name": "Python 3 (ipykernel)",
   "language": "python",
   "name": "python3"
  },
  "language_info": {
   "codemirror_mode": {
    "name": "ipython",
    "version": 3
   },
   "file_extension": ".py",
   "mimetype": "text/x-python",
   "name": "python",
   "nbconvert_exporter": "python",
   "pygments_lexer": "ipython3",
   "version": "3.10.6"
  }
 },
 "nbformat": 4,
 "nbformat_minor": 5
}
